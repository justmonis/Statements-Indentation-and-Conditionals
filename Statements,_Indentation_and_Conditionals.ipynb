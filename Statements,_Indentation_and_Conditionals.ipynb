{
  "nbformat": 4,
  "nbformat_minor": 0,
  "metadata": {
    "kernelspec": {
      "display_name": "Python 3",
      "language": "python",
      "name": "python3"
    },
    "language_info": {
      "codemirror_mode": {
        "name": "ipython",
        "version": 3
      },
      "file_extension": ".py",
      "mimetype": "text/x-python",
      "name": "python",
      "nbconvert_exporter": "python",
      "pygments_lexer": "ipython3",
      "version": "3.7.4"
    },
    "colab": {
      "provenance": [],
      "include_colab_link": true
    }
  },
  "cells": [
    {
      "cell_type": "markdown",
      "metadata": {
        "id": "view-in-github",
        "colab_type": "text"
      },
      "source": [
        "<a href=\"https://colab.research.google.com/github/justmonis/Statements-Indentation-and-Conditionals/blob/main/Statements%2C_Indentation_and_Conditionals.ipynb\" target=\"_parent\"><img src=\"https://colab.research.google.com/assets/colab-badge.svg\" alt=\"Open In Colab\"/></a>"
      ]
    },
    {
      "cell_type": "markdown",
      "metadata": {
        "id": "uCEngv6FHnnb"
      },
      "source": [
        "# <u>Understanding the difference between Statements and Expressions</u>"
      ]
    },
    {
      "cell_type": "markdown",
      "metadata": {
        "id": "6KySHsyNHnne"
      },
      "source": [
        "* A Statement is an instruction that the Python interpreter can execute. We have only seen the assignment statement so far. Some other kinds of statements that we’ll see shortly are while statements, for statements, if statements, and import statements. (There are other kinds too!)\n",
        "\n",
        "\n",
        "* An Expression is a combination of values, variables, operators, and calls to functions. Expressions need to be evaluated. If you ask Python to print an expression, the interpreter evaluates the expression and displays the result."
      ]
    },
    {
      "cell_type": "code",
      "metadata": {
        "id": "WT3EsLAIYUPx"
      },
      "source": [
        "# Assignment statement\n",
        "x = 3"
      ],
      "execution_count": 2,
      "outputs": []
    },
    {
      "cell_type": "code",
      "metadata": {
        "id": "ZN-GxWfKHnng",
        "colab": {
          "base_uri": "https://localhost:8080/"
        },
        "outputId": "48935f2e-647a-45c0-b722-9f3c14439460"
      },
      "source": [
        "print(1 + 1)\n",
        "print(len(\"Hello Team AlmaBetter\"))"
      ],
      "execution_count": 3,
      "outputs": [
        {
          "output_type": "stream",
          "name": "stdout",
          "text": [
            "2\n",
            "21\n"
          ]
        }
      ]
    },
    {
      "cell_type": "markdown",
      "metadata": {
        "id": "sHO6fat6Hnns"
      },
      "source": [
        "* In this example <code>len()</code> is a built-in Python function that returns the number of characters in a string. We’ve previously seen the <code>print()</code> and the <code>type()</code> functions, so this is an example of another function!\n",
        "\n",
        "\n",
        "* The evaluation of an expression produces a value, which is why expressions can appear on the right hand side of assignment statements. A value all by itself is a simple expression, and so is a variable. Evaluating a variable gives the value that the variable refers to."
      ]
    },
    {
      "cell_type": "code",
      "metadata": {
        "id": "0QCxgyEbHnnu"
      },
      "source": [
        "y = 3.14"
      ],
      "execution_count": 4,
      "outputs": []
    },
    {
      "cell_type": "code",
      "metadata": {
        "id": "yHx-90qB7llg",
        "colab": {
          "base_uri": "https://localhost:8080/"
        },
        "outputId": "be4c9501-bfab-4818-8259-4e86a17ed047"
      },
      "source": [
        "y"
      ],
      "execution_count": 5,
      "outputs": [
        {
          "output_type": "execute_result",
          "data": {
            "text/plain": [
              "3.14"
            ]
          },
          "metadata": {},
          "execution_count": 5
        }
      ]
    },
    {
      "cell_type": "code",
      "metadata": {
        "id": "XQayBiLeZ1eg"
      },
      "source": [
        "a = 'Mighty'\n",
        "# b = a == True"
      ],
      "execution_count": 6,
      "outputs": []
    },
    {
      "cell_type": "code",
      "metadata": {
        "colab": {
          "base_uri": "https://localhost:8080/"
        },
        "id": "n1rgy43RZ70I",
        "outputId": "5637815a-ff08-4e3b-b51b-f8a1d6f9dc0a"
      },
      "source": [
        "a == True"
      ],
      "execution_count": 7,
      "outputs": [
        {
          "output_type": "execute_result",
          "data": {
            "text/plain": [
              "False"
            ]
          },
          "metadata": {},
          "execution_count": 7
        }
      ]
    },
    {
      "cell_type": "markdown",
      "metadata": {
        "id": "VC98TpZyHnn0"
      },
      "source": [
        "* Note that when we enter the assignment statement, <code>y = 3.14 </code>, only the prompt is returned. There is no value. This is due to the fact that statements, such as the assignment statement, do not return a value. They are simply executed."
      ]
    },
    {
      "cell_type": "code",
      "metadata": {
        "id": "k8mZhU9naj6b"
      },
      "source": [
        "# Import statement\n",
        "import pandas as pd"
      ],
      "execution_count": 8,
      "outputs": []
    },
    {
      "cell_type": "code",
      "metadata": {
        "id": "QvpFXqHvHnn1",
        "colab": {
          "base_uri": "https://localhost:8080/"
        },
        "outputId": "957a780b-17b0-4e10-a6a6-db45db142c93"
      },
      "source": [
        "print(y)"
      ],
      "execution_count": 9,
      "outputs": [
        {
          "output_type": "stream",
          "name": "stdout",
          "text": [
            "3.14\n"
          ]
        }
      ]
    },
    {
      "cell_type": "code",
      "metadata": {
        "id": "UOlQvndGHnn6",
        "colab": {
          "base_uri": "https://localhost:8080/"
        },
        "outputId": "1065896b-0ef8-4a2a-ba32-b2f396acd71c"
      },
      "source": [
        "y"
      ],
      "execution_count": 10,
      "outputs": [
        {
          "output_type": "execute_result",
          "data": {
            "text/plain": [
              "3.14"
            ]
          },
          "metadata": {},
          "execution_count": 10
        }
      ]
    },
    {
      "cell_type": "markdown",
      "metadata": {
        "id": "w945dRqiHnn9"
      },
      "source": [
        "* On the other hand, the result of executing the assignment statement is the creation of a reference from a variable, y, to a value, 3.14. When we execute the <code>print()</code> function working on y, we see the value that y is referring to. In fact, evaluating y by itself results in the same response."
      ]
    },
    {
      "cell_type": "markdown",
      "metadata": {
        "id": "mvOHovwVHnn9"
      },
      "source": [
        "* Instructions that a Python interpreter can execute are called statements. For example, <code>a = 1</code> is an assignment statement. <code>if</code> statement, <code>for</code> statement, <code>while</code> statement, etc. are other kinds of statements which will be discussed later."
      ]
    },
    {
      "cell_type": "markdown",
      "metadata": {
        "id": "LfTpVhrcHnn-"
      },
      "source": [
        "### Multi-line Statements"
      ]
    },
    {
      "cell_type": "markdown",
      "metadata": {
        "id": "8WI-7DFHHnn-"
      },
      "source": [
        "* In Python, the end of a statement is marked by a newline character. But we can make a statement extend over multiple lines with the line continuation character (\\)."
      ]
    },
    {
      "cell_type": "code",
      "metadata": {
        "id": "JgAslWA9b2Md"
      },
      "source": [
        "x = 1\n",
        "y = 2\n",
        "+ 5\n",
        "z = 3"
      ],
      "execution_count": 11,
      "outputs": []
    },
    {
      "cell_type": "code",
      "metadata": {
        "colab": {
          "base_uri": "https://localhost:8080/"
        },
        "id": "_gWSgBDrb4yj",
        "outputId": "9faa9261-7f65-4ed0-d2fd-eca1948fa70e"
      },
      "source": [
        "y"
      ],
      "execution_count": 12,
      "outputs": [
        {
          "output_type": "execute_result",
          "data": {
            "text/plain": [
              "2"
            ]
          },
          "metadata": {},
          "execution_count": 12
        }
      ]
    },
    {
      "cell_type": "code",
      "metadata": {
        "id": "P3XeEpxgHnn_",
        "colab": {
          "base_uri": "https://localhost:8080/",
          "height": 140
        },
        "outputId": "337b3a5f-f0be-4f59-815b-b631ae63047d"
      },
      "source": [
        "a = 1 + 2 + 3 + 4 +\n",
        "5 + 6+ 7+ 8+\n",
        "9 + 10"
      ],
      "execution_count": 14,
      "outputs": [
        {
          "output_type": "error",
          "ename": "SyntaxError",
          "evalue": "ignored",
          "traceback": [
            "\u001b[0;36m  File \u001b[0;32m\"<ipython-input-14-c0ab2e540b9b>\"\u001b[0;36m, line \u001b[0;32m1\u001b[0m\n\u001b[0;31m    a = 1 + 2 + 3 + 4 +\u001b[0m\n\u001b[0m                       ^\u001b[0m\n\u001b[0;31mSyntaxError\u001b[0m\u001b[0;31m:\u001b[0m invalid syntax\n"
          ]
        }
      ]
    },
    {
      "cell_type": "code",
      "source": [
        "a = (1 + 2 + 3 + 4 +\n",
        "5 + 6+ 7+ 8+\n",
        "9 + 10)"
      ],
      "metadata": {
        "id": "9GDBHW866nEe"
      },
      "execution_count": 15,
      "outputs": []
    },
    {
      "cell_type": "code",
      "metadata": {
        "id": "uKiA4sBFHnoC",
        "colab": {
          "base_uri": "https://localhost:8080/"
        },
        "outputId": "520da8fe-f429-4637-cd47-6570d9b47250"
      },
      "source": [
        "a"
      ],
      "execution_count": 16,
      "outputs": [
        {
          "output_type": "execute_result",
          "data": {
            "text/plain": [
              "55"
            ]
          },
          "metadata": {},
          "execution_count": 16
        }
      ]
    },
    {
      "cell_type": "code",
      "source": [
        "type(a)"
      ],
      "metadata": {
        "colab": {
          "base_uri": "https://localhost:8080/"
        },
        "id": "8O_xdgK86rP2",
        "outputId": "4105c6e2-c033-44c4-c456-9e1522b72870"
      },
      "execution_count": 17,
      "outputs": [
        {
          "output_type": "execute_result",
          "data": {
            "text/plain": [
              "int"
            ]
          },
          "metadata": {},
          "execution_count": 17
        }
      ]
    },
    {
      "cell_type": "code",
      "source": [
        "a = 1 + 2 + 3 + 4 + \\\n",
        "5 + 6+ 7+ 8+ \\\n",
        "9 + 10"
      ],
      "metadata": {
        "id": "lSiAl7D56vFZ"
      },
      "execution_count": 18,
      "outputs": []
    },
    {
      "cell_type": "code",
      "source": [
        "print(a)"
      ],
      "metadata": {
        "id": "Yjudo4av62mW"
      },
      "execution_count": null,
      "outputs": []
    },
    {
      "cell_type": "markdown",
      "metadata": {
        "id": "ZT6MwgGsHnoF"
      },
      "source": [
        "* This is an explicit line continuation. In Python, line continuation is implied inside parentheses <code>( )</code>, brackets <code>[ ]</code>, and braces <code>{ }</code>. For instance, we can implement the above multi-line statement as:"
      ]
    },
    {
      "cell_type": "code",
      "metadata": {
        "id": "V6l3evBTdpGg"
      },
      "source": [
        "my_list = [1]\n",
        "my_tuple = (1,)"
      ],
      "execution_count": 19,
      "outputs": []
    },
    {
      "cell_type": "code",
      "metadata": {
        "colab": {
          "base_uri": "https://localhost:8080/"
        },
        "id": "d5xpwMgAdtLo",
        "outputId": "3f34e522-5479-4ba3-8a1b-a20af2152d49"
      },
      "source": [
        "my_list, my_tuple"
      ],
      "execution_count": 20,
      "outputs": [
        {
          "output_type": "execute_result",
          "data": {
            "text/plain": [
              "([1], (1,))"
            ]
          },
          "metadata": {},
          "execution_count": 20
        }
      ]
    },
    {
      "cell_type": "code",
      "metadata": {
        "id": "pbQlDAYyHnoG",
        "colab": {
          "base_uri": "https://localhost:8080/",
          "height": 140
        },
        "outputId": "d2e2b5b9-5237-4648-caeb-368756ad8bf1"
      },
      "source": [
        "a = (1 + 2 + 3 + 4 +\n",
        "\n",
        "     5 + 6 + 7 +\n",
        "     8 + 9 + 10"
      ],
      "execution_count": 21,
      "outputs": [
        {
          "output_type": "error",
          "ename": "SyntaxError",
          "evalue": "ignored",
          "traceback": [
            "\u001b[0;36m  File \u001b[0;32m\"<ipython-input-21-e09e76176c86>\"\u001b[0;36m, line \u001b[0;32m4\u001b[0m\n\u001b[0;31m    8 + 9 + 10\u001b[0m\n\u001b[0m              ^\u001b[0m\n\u001b[0;31mSyntaxError\u001b[0m\u001b[0;31m:\u001b[0m incomplete input\n"
          ]
        }
      ]
    },
    {
      "cell_type": "code",
      "metadata": {
        "id": "D_OaHIHz8xJZ",
        "colab": {
          "base_uri": "https://localhost:8080/"
        },
        "outputId": "65984f8d-8f24-4c3a-95cc-e21439e037d8"
      },
      "source": [
        "a"
      ],
      "execution_count": 22,
      "outputs": [
        {
          "output_type": "execute_result",
          "data": {
            "text/plain": [
              "55"
            ]
          },
          "metadata": {},
          "execution_count": 22
        }
      ]
    },
    {
      "cell_type": "code",
      "metadata": {
        "colab": {
          "base_uri": "https://localhost:8080/"
        },
        "id": "sF5Ncyoldjsq",
        "outputId": "ba52652d-65e9-423c-a64c-31396f57ee92"
      },
      "source": [
        "type(a)"
      ],
      "execution_count": 23,
      "outputs": [
        {
          "output_type": "execute_result",
          "data": {
            "text/plain": [
              "int"
            ]
          },
          "metadata": {},
          "execution_count": 23
        }
      ]
    },
    {
      "cell_type": "markdown",
      "metadata": {
        "id": "PNsXf6IfHnoI"
      },
      "source": [
        "* Here, the surrounding parentheses <code>( )</code> do the line continuation implicitly. Same is the case with <code>[ ]</code> and <code>{ }</code>. For example:"
      ]
    },
    {
      "cell_type": "code",
      "metadata": {
        "id": "UXPQjcvL9Mwq"
      },
      "source": [
        "a = 1\n",
        "b = 2"
      ],
      "execution_count": 24,
      "outputs": []
    },
    {
      "cell_type": "code",
      "metadata": {
        "id": "V4vEIYUde5Qv"
      },
      "source": [
        "colors = 'Set theory is the mathematical theory of well-determined collections, called sets, of objects that are called members, or elements, of the set. Pure set theory deals exclusively with sets, so the only sets under consideration are those whose members are also sets. The theory of the hereditarily-finite sets, namely those finite sets whose elements are also finite sets, the elements of which are also finite, and so on, is formally equivalent to arithmetic. So, the essence of set theory is the study of infinite sets, and therefore it can be defined as the mathematical theory of the actual—as opposed to potential—infinite.'"
      ],
      "execution_count": 25,
      "outputs": []
    },
    {
      "cell_type": "code",
      "metadata": {
        "id": "acavVLtgHnoI"
      },
      "source": [
        "colors = 'Set theory is the mathematical theory of well-determined collections, called sets, \\\n",
        "of objects that are called members, or elements, of the set. Pure set theory deals exclusively \\\n",
        "with sets, so the only sets under consideration are those whose members are also sets.\\\n",
        "The theory of the hereditarily-finite sets, namely those finite sets whose elements are also finite sets,\\\n",
        " the elements of which are also finite, and so on, is formally equivalent to arithmetic. \\\n",
        " So, the essence of set theory is the study of infinite sets, and \\\n",
        " therefore it can be defined as the mathematical theory of the actual—as opposed to potential—infinite.'"
      ],
      "execution_count": 26,
      "outputs": []
    },
    {
      "cell_type": "code",
      "metadata": {
        "id": "b84McgJT9zhw",
        "colab": {
          "base_uri": "https://localhost:8080/",
          "height": 70
        },
        "outputId": "da278375-721e-44ec-efcf-f3e0d155d317"
      },
      "source": [
        "colors"
      ],
      "execution_count": 27,
      "outputs": [
        {
          "output_type": "execute_result",
          "data": {
            "text/plain": [
              "'Set theory is the mathematical theory of well-determined collections, called sets, of objects that are called members, or elements, of the set. Pure set theory deals exclusively with sets, so the only sets under consideration are those whose members are also sets.The theory of the hereditarily-finite sets, namely those finite sets whose elements are also finite sets, the elements of which are also finite, and so on, is formally equivalent to arithmetic.  So, the essence of set theory is the study of infinite sets, and  therefore it can be defined as the mathematical theory of the actual—as opposed to potential—infinite.'"
            ],
            "application/vnd.google.colaboratory.intrinsic+json": {
              "type": "string"
            }
          },
          "metadata": {},
          "execution_count": 27
        }
      ]
    },
    {
      "cell_type": "markdown",
      "metadata": {
        "id": "B03yfZ97HnoK"
      },
      "source": [
        "* We can also put multiple statements in a single line using semicolons, as follows:"
      ]
    },
    {
      "cell_type": "code",
      "metadata": {
        "id": "OQDamWX8fYK4"
      },
      "source": [
        "a = 1\n",
        "b = 2\n",
        "c = 3"
      ],
      "execution_count": 28,
      "outputs": []
    },
    {
      "cell_type": "code",
      "metadata": {
        "id": "Ai_uK72yHnoL"
      },
      "source": [
        "a = 1 ; b = 2 ; c = 3"
      ],
      "execution_count": 29,
      "outputs": []
    },
    {
      "cell_type": "code",
      "metadata": {
        "id": "1UpKwsua-HIk",
        "colab": {
          "base_uri": "https://localhost:8080/"
        },
        "outputId": "574edfb2-4c4e-44f9-bf6c-43a42113b5c1"
      },
      "source": [
        "c"
      ],
      "execution_count": 30,
      "outputs": [
        {
          "output_type": "execute_result",
          "data": {
            "text/plain": [
              "3"
            ]
          },
          "metadata": {},
          "execution_count": 30
        }
      ]
    },
    {
      "cell_type": "code",
      "metadata": {
        "id": "P_A4qzdCgdFO"
      },
      "source": [
        "a = 1\n",
        "b = 2\n",
        "c = 3"
      ],
      "execution_count": 31,
      "outputs": []
    },
    {
      "cell_type": "code",
      "metadata": {
        "id": "Qi411Crhoy_X"
      },
      "source": [
        "a, b, c = [1, 'a', True], (45, 67), {'Name' : 'Monis' , 'Age' : 23}"
      ],
      "execution_count": 39,
      "outputs": []
    },
    {
      "cell_type": "code",
      "metadata": {
        "id": "_MLqT90co1uM",
        "colab": {
          "base_uri": "https://localhost:8080/"
        },
        "outputId": "f7a00ecc-c782-49d2-bd77-d20294d0a539"
      },
      "source": [
        "a"
      ],
      "execution_count": 33,
      "outputs": [
        {
          "output_type": "execute_result",
          "data": {
            "text/plain": [
              "[1, 'a', True]"
            ]
          },
          "metadata": {},
          "execution_count": 33
        }
      ]
    },
    {
      "cell_type": "code",
      "metadata": {
        "id": "wFWj0Mo1o6e0",
        "colab": {
          "base_uri": "https://localhost:8080/"
        },
        "outputId": "5eaafe08-cde7-4b55-90e6-06680e657003"
      },
      "source": [
        "b"
      ],
      "execution_count": 40,
      "outputs": [
        {
          "output_type": "execute_result",
          "data": {
            "text/plain": [
              "(45, 67)"
            ]
          },
          "metadata": {},
          "execution_count": 40
        }
      ]
    },
    {
      "cell_type": "code",
      "metadata": {
        "id": "cX-CIJFwo8ce",
        "colab": {
          "base_uri": "https://localhost:8080/"
        },
        "outputId": "34a8b811-304d-4e21-b2c7-3c0aa332841e"
      },
      "source": [
        "c"
      ],
      "execution_count": 41,
      "outputs": [
        {
          "output_type": "execute_result",
          "data": {
            "text/plain": [
              "{'Name': 'Monis', 'Age': 23}"
            ]
          },
          "metadata": {},
          "execution_count": 41
        }
      ]
    },
    {
      "cell_type": "code",
      "metadata": {
        "id": "yOwjB-YYhQfk"
      },
      "source": [
        "a, b = b, a"
      ],
      "execution_count": 42,
      "outputs": []
    },
    {
      "cell_type": "code",
      "metadata": {
        "colab": {
          "base_uri": "https://localhost:8080/"
        },
        "id": "5F9bYYGDhS5J",
        "outputId": "40fc017a-5f5a-4ecb-a1ed-cb2719143c63"
      },
      "source": [
        "a"
      ],
      "execution_count": 43,
      "outputs": [
        {
          "output_type": "execute_result",
          "data": {
            "text/plain": [
              "(45, 67)"
            ]
          },
          "metadata": {},
          "execution_count": 43
        }
      ]
    },
    {
      "cell_type": "code",
      "metadata": {
        "colab": {
          "base_uri": "https://localhost:8080/"
        },
        "id": "5vod6tsShUvH",
        "outputId": "f31d8bff-0b71-4ac7-ddb2-4a91001a3920"
      },
      "source": [
        "b"
      ],
      "execution_count": 44,
      "outputs": [
        {
          "output_type": "execute_result",
          "data": {
            "text/plain": [
              "[1, 'a', True]"
            ]
          },
          "metadata": {},
          "execution_count": 44
        }
      ]
    },
    {
      "cell_type": "markdown",
      "metadata": {
        "id": "khxoqawIHnoN"
      },
      "source": [
        "# <u>Python Comments</u>"
      ]
    },
    {
      "cell_type": "markdown",
      "metadata": {
        "id": "7he_1JNlHnoN"
      },
      "source": [
        "* Comments are very important while writing a program. They describe what is going on inside a program, so that a person looking at the source code does not have a hard time figuring it out.\n",
        "\n",
        "\n",
        "* You might forget the key details of the program you just wrote in a month's time. So taking the time to explain these concepts in the form of comments is always fruitful.\n",
        "\n",
        "\n",
        "* In Python, we use the hash (#) symbol to start writing a comment.\n",
        "\n",
        "\n",
        "* It extends up to the newline character. Comments are for programmers to better understand a program. Python Interpreter ignores comments."
      ]
    },
    {
      "cell_type": "code",
      "metadata": {
        "id": "r5BzV1ITHnoN",
        "colab": {
          "base_uri": "https://localhost:8080/"
        },
        "outputId": "495e0e8a-4465-4f59-d47e-7d83dffe4398"
      },
      "source": [
        "# This is a comment\n",
        "# print('Hello')\n",
        "print('Hello')"
      ],
      "execution_count": 46,
      "outputs": [
        {
          "output_type": "stream",
          "name": "stdout",
          "text": [
            "Hello\n"
          ]
        }
      ]
    },
    {
      "cell_type": "markdown",
      "metadata": {
        "id": "rt8jeajiHnoQ"
      },
      "source": [
        "* We can have comments that extend up to multiple lines. One way is to use the hash(#) symbol at the beginning of each line. For example:"
      ]
    },
    {
      "cell_type": "code",
      "metadata": {
        "id": "ke5LH88CHnoQ"
      },
      "source": [
        "# This is a long comment\n",
        "# and it extends\n",
        "# to multiple lines"
      ],
      "execution_count": 47,
      "outputs": []
    },
    {
      "cell_type": "markdown",
      "metadata": {
        "id": "dM5xcR6uHnoS"
      },
      "source": [
        "* Another way of doing this is to use triple quotes, either ''' or \"\"\".\n",
        "\n",
        "\n",
        "* These triple quotes are generally used for multi-line strings. But they can be used as a multi-line comment as well. Unless they are not docstrings, they do not generate any extra code."
      ]
    },
    {
      "cell_type": "code",
      "metadata": {
        "id": "o1Aw0HL7HnoT",
        "colab": {
          "base_uri": "https://localhost:8080/"
        },
        "outputId": "15dda27d-3e70-4c48-8beb-07358a43d08b"
      },
      "source": [
        "'''This is also a\n",
        "perfect example of\n",
        "ahjcdjh\n",
        "sdjbdkjas\n",
        "mnbscjsab\n",
        "bkjabfa\n",
        "multi-line comments'''\n",
        "\n",
        "a = 3\n",
        "print(a)"
      ],
      "execution_count": 48,
      "outputs": [
        {
          "output_type": "stream",
          "name": "stdout",
          "text": [
            "3\n"
          ]
        }
      ]
    },
    {
      "cell_type": "markdown",
      "metadata": {
        "id": "XM2CjOCyHnoV"
      },
      "source": [
        "# <u>Indentation in Python </u>\n",
        "\n",
        "It is important to keep a good understanding of how indentation works in Python to maintain the structure and order of your code. We will touch on this topic again when we start building out functions!"
      ]
    },
    {
      "cell_type": "markdown",
      "metadata": {
        "id": "uhAgTP0tHnoW"
      },
      "source": [
        "* Let's create a simple statement that says: \"If a is greater than b, assign 2 to a and 4 to b\"\n",
        "\n",
        "\n",
        "* Take a look at how to write a simple if statement                 "
      ]
    },
    {
      "cell_type": "code",
      "source": [
        " a=2\n",
        " b=1\n",
        "\n",
        " if a > b:\n",
        "   a = 2\n",
        "   b=4\n",
        "print(a)\n",
        "print(b)"
      ],
      "metadata": {
        "colab": {
          "base_uri": "https://localhost:8080/"
        },
        "id": "7OmGeTiVEfZw",
        "outputId": "dcfa6858-fe8a-4774-f3ed-e03eaee7fc07"
      },
      "execution_count": 50,
      "outputs": [
        {
          "output_type": "stream",
          "name": "stdout",
          "text": [
            "2\n",
            "4\n"
          ]
        }
      ]
    },
    {
      "cell_type": "code",
      "source": [
        "a = 2\n",
        "b = 1\n",
        "if a > b:\n",
        "  a = 2\n",
        "  b = 4\n",
        "  print(a)\n",
        "  print(b)"
      ],
      "metadata": {
        "colab": {
          "base_uri": "https://localhost:8080/"
        },
        "id": "cpP0GTOwJauN",
        "outputId": "8f2180fe-e833-49f4-dd16-a33f1e3de589"
      },
      "execution_count": 51,
      "outputs": [
        {
          "output_type": "stream",
          "name": "stdout",
          "text": [
            "2\n",
            "4\n"
          ]
        }
      ]
    },
    {
      "cell_type": "code",
      "metadata": {
        "id": "cubiTvRkHnoW"
      },
      "source": [
        " a=2\n",
        " b=1\n",
        "\n",
        " if b > a:\n",
        "   a = 2\n",
        "   b=4\n",
        "   print(a)\n",
        "   print(b)"
      ],
      "execution_count": 53,
      "outputs": []
    },
    {
      "cell_type": "code",
      "metadata": {
        "id": "x3pl15PBHnoZ",
        "colab": {
          "base_uri": "https://localhost:8080/"
        },
        "outputId": "a825d745-dc59-425d-fc42-da0b16f00cff"
      },
      "source": [
        " a"
      ],
      "execution_count": 54,
      "outputs": [
        {
          "output_type": "execute_result",
          "data": {
            "text/plain": [
              "2"
            ]
          },
          "metadata": {},
          "execution_count": 54
        }
      ]
    },
    {
      "cell_type": "code",
      "metadata": {
        "id": "fPEVAaRLHnoc",
        "colab": {
          "base_uri": "https://localhost:8080/"
        },
        "outputId": "8dfe40e2-2a5b-46dd-f6c5-f79bc3d0cef4"
      },
      "source": [
        "b"
      ],
      "execution_count": 55,
      "outputs": [
        {
          "output_type": "execute_result",
          "data": {
            "text/plain": [
              "1"
            ]
          },
          "metadata": {},
          "execution_count": 55
        }
      ]
    },
    {
      "cell_type": "code",
      "metadata": {
        "id": "5dv6qNOXlL6X"
      },
      "source": [
        "a, b = 1, 2"
      ],
      "execution_count": 56,
      "outputs": []
    },
    {
      "cell_type": "code",
      "metadata": {
        "id": "RKk2I-kKHnoe",
        "colab": {
          "base_uri": "https://localhost:8080/",
          "height": 140
        },
        "outputId": "cfcbb590-0af3-44cc-f763-6f2f0368c202"
      },
      "source": [
        "if a < b :\n"
      ],
      "execution_count": 57,
      "outputs": [
        {
          "output_type": "error",
          "ename": "SyntaxError",
          "evalue": "ignored",
          "traceback": [
            "\u001b[0;36m  File \u001b[0;32m\"<ipython-input-57-34e31321e5ce>\"\u001b[0;36m, line \u001b[0;32m1\u001b[0m\n\u001b[0;31m    if a < b :\u001b[0m\n\u001b[0m              ^\u001b[0m\n\u001b[0;31mSyntaxError\u001b[0m\u001b[0;31m:\u001b[0m incomplete input\n"
          ]
        }
      ]
    },
    {
      "cell_type": "markdown",
      "metadata": {
        "id": "7zf6T5CSHnog"
      },
      "source": [
        "* You'll notice that Python is less cluttered and much more readable than other languages like C or Java. How does Python manage this?\n",
        "\n",
        "\n",
        "* The statement is ended with a colon, and whitespace(tab) is used (indentation) to describe what takes place in case of the statement.\n",
        "\n",
        "\n",
        "* Another major difference is the lack of semicolons in Python.\n",
        "\n",
        "\n",
        "* Semicolons are used to denote statement endings in many other languages, but in Python, **the end of a line is the same as the end of a statement.**\n",
        "\n",
        "\n",
        "* Lastly, to end this brief overview of differences, let's take a closer look at indentation syntax in Python vs other languages:"
      ]
    },
    {
      "cell_type": "markdown",
      "metadata": {
        "id": "1tDQg0B1Hnog"
      },
      "source": [
        "# <u> Conditional Statements </u>\n",
        "\n",
        "* <code>if</code> Statements in Python allows us to tell the computer to perform alternative actions based on a certain set of results.\n",
        "\n",
        "\n",
        "* Verbally, we can imagine we are telling the computer:\"Hey if this case happens, perform some action\"\n",
        "\n",
        "\n",
        "* We can then expand the idea further with <code>elif</code> and <code>else</code> statements, which allow us to tell the computer: \"Hey if this case happens, perform some action. Else, if another case happens, perform some other action. Else, if *none* of the above cases happened, perform this action.\"\n",
        "\n",
        "\n",
        "* Let's go ahead and look at the syntax format for <code>if</code> statements to get a better idea of this:\n",
        "\n",
        "    if case1:\n",
        "        perform action1\n",
        "    elif case2:\n",
        "        perform action2\n",
        "    else:\n",
        "        perform action3"
      ]
    },
    {
      "cell_type": "code",
      "metadata": {
        "id": "9HTiofEDoOR6",
        "colab": {
          "base_uri": "https://localhost:8080/",
          "height": 140
        },
        "outputId": "ed0a312b-64a5-457b-94d5-328865c9e326"
      },
      "source": [
        "if case1 :\n",
        "  # do some action\n",
        "elif case 5 :\n",
        "    # another action\n",
        "elif case2 :\n",
        "  # do some another action\n",
        "else:\n",
        "  # do some yet another actio"
      ],
      "execution_count": 58,
      "outputs": [
        {
          "output_type": "error",
          "ename": "IndentationError",
          "evalue": "ignored",
          "traceback": [
            "\u001b[0;36m  File \u001b[0;32m\"<ipython-input-58-f4540b93cceb>\"\u001b[0;36m, line \u001b[0;32m3\u001b[0m\n\u001b[0;31m    elif case 5 :\u001b[0m\n\u001b[0m    ^\u001b[0m\n\u001b[0;31mIndentationError\u001b[0m\u001b[0;31m:\u001b[0m expected an indented block after 'if' statement on line 1\n"
          ]
        }
      ]
    },
    {
      "cell_type": "code",
      "metadata": {
        "id": "bFe8-H-oHnoh"
      },
      "source": [
        "x=20   # Statement 1 - Assignment statement\n",
        "\n",
        "if x == 30 :\n",
        "  print('x is greater than 10!')\n",
        "  print(f'x is {x}')"
      ],
      "execution_count": 60,
      "outputs": []
    },
    {
      "cell_type": "markdown",
      "metadata": {
        "id": "RI18dXE4Hnok"
      },
      "source": [
        "* <code>if</code> statement evaluates the True condition"
      ]
    },
    {
      "cell_type": "code",
      "source": [
        "x=30   # Statement 1 - Assignment statement\n",
        "\n",
        "if x == 30 :\n",
        "  print('x is greater than 10!')\n",
        "  print(f'x is {x}')"
      ],
      "metadata": {
        "colab": {
          "base_uri": "https://localhost:8080/"
        },
        "id": "qZhn8VJIBkLh",
        "outputId": "1986882a-75d4-4917-b69b-1cb9f65e784a"
      },
      "execution_count": 61,
      "outputs": [
        {
          "output_type": "stream",
          "name": "stdout",
          "text": [
            "x is greater than 10!\n",
            "x is 30\n"
          ]
        }
      ]
    },
    {
      "cell_type": "markdown",
      "source": [
        "formated function_ go to google"
      ],
      "metadata": {
        "id": "qpJf69weB2Vr"
      }
    },
    {
      "cell_type": "code",
      "source": [
        "x=20   # Statement 1 - Assignment statement\n",
        "\n",
        "if x >= 30 :\n",
        "  print('x is greater than 30!')\n",
        "  print(f'x is {x}')\n",
        "else:\n",
        "  print('The condition is false')"
      ],
      "metadata": {
        "colab": {
          "base_uri": "https://localhost:8080/"
        },
        "id": "woc0n_b2Crvx",
        "outputId": "7f005639-375b-43fc-b717-d899024716d4"
      },
      "execution_count": 62,
      "outputs": [
        {
          "output_type": "stream",
          "name": "stdout",
          "text": [
            "The condition is false\n"
          ]
        }
      ]
    },
    {
      "cell_type": "code",
      "source": [
        "x=20   # Statement 1 - Assignment statement\n",
        "\n",
        "if x >= 30 :\n",
        "  print('x is greater than 30!')\n",
        "elif x >= 20:\n",
        "  print('x is greater than 20!')\n",
        "else:\n",
        "  print('The condition is false')"
      ],
      "metadata": {
        "colab": {
          "base_uri": "https://localhost:8080/"
        },
        "id": "rjQnzvTODlbY",
        "outputId": "f5f1a320-6871-40ed-b844-0e36fd05a5d8"
      },
      "execution_count": 63,
      "outputs": [
        {
          "output_type": "stream",
          "name": "stdout",
          "text": [
            "x is greater than 20!\n"
          ]
        }
      ]
    },
    {
      "cell_type": "code",
      "source": [
        "11%2"
      ],
      "metadata": {
        "colab": {
          "base_uri": "https://localhost:8080/"
        },
        "id": "nQepUiz4g_lJ",
        "outputId": "74042964-076e-48d6-d238-002aca753fad"
      },
      "execution_count": 64,
      "outputs": [
        {
          "output_type": "execute_result",
          "data": {
            "text/plain": [
              "1"
            ]
          },
          "metadata": {},
          "execution_count": 64
        }
      ]
    },
    {
      "cell_type": "code",
      "source": [
        "x=10   # Statement 1 - Assignment statement\n",
        "\n",
        "if x >= 30 :\n",
        "  print('x is greater than 30!')\n",
        "elif x >= 20:\n",
        "  print('x is greater than 20!')\n",
        "else:\n",
        "  print('The condition is false')"
      ],
      "metadata": {
        "colab": {
          "base_uri": "https://localhost:8080/"
        },
        "id": "jYnxJcQFEJFA",
        "outputId": "55db9b22-e82e-46aa-8590-cc7c396b982d"
      },
      "execution_count": 65,
      "outputs": [
        {
          "output_type": "stream",
          "name": "stdout",
          "text": [
            "The condition is false\n"
          ]
        }
      ]
    },
    {
      "cell_type": "code",
      "source": [
        "x=40   # Statement 1 - Assignment statement\n",
        "\n",
        "if x >= 30 :\n",
        "  print('x is greater than 30!')\n",
        "elif x >= 20:\n",
        "  print('x is greater than 20!')\n",
        "else:\n",
        "  print('The condition is false')"
      ],
      "metadata": {
        "colab": {
          "base_uri": "https://localhost:8080/"
        },
        "id": "vZlqStsZEUNH",
        "outputId": "8cb95679-83b1-4265-c3be-fc5c53856907"
      },
      "execution_count": 66,
      "outputs": [
        {
          "output_type": "stream",
          "name": "stdout",
          "text": [
            "x is greater than 30!\n"
          ]
        }
      ]
    },
    {
      "cell_type": "code",
      "source": [
        "x=10   # Statement 1 - Assignment statement\n",
        "\n",
        "if x >= 30 :\n",
        "  print('x is greater than 30!')\n",
        "elif x >= 20:\n",
        "  print('x is greater than 20!')\n",
        "else:\n",
        "  print('The condition is false')\n",
        "\n",
        "print('Almabetter')"
      ],
      "metadata": {
        "colab": {
          "base_uri": "https://localhost:8080/"
        },
        "id": "jb37xla35Kgv",
        "outputId": "60f49cf1-76f7-42c3-c4ca-39a463d75193"
      },
      "execution_count": 67,
      "outputs": [
        {
          "output_type": "stream",
          "name": "stdout",
          "text": [
            "The condition is false\n",
            "Almabetter\n"
          ]
        }
      ]
    },
    {
      "cell_type": "code",
      "metadata": {
        "colab": {
          "base_uri": "https://localhost:8080/"
        },
        "id": "0c6qcOShq1AI",
        "outputId": "834048e3-8541-45a0-b42f-8a3548d3befe"
      },
      "source": [
        "x == 20"
      ],
      "execution_count": 68,
      "outputs": [
        {
          "output_type": "execute_result",
          "data": {
            "text/plain": [
              "False"
            ]
          },
          "metadata": {},
          "execution_count": 68
        }
      ]
    },
    {
      "cell_type": "code",
      "metadata": {
        "id": "n2L2kPAkHnol",
        "colab": {
          "base_uri": "https://localhost:8080/"
        },
        "outputId": "3f24786a-31d3-40ae-94e4-1bbb5f486cca"
      },
      "source": [
        "if True:\n",
        "  print('It was true!')"
      ],
      "execution_count": 69,
      "outputs": [
        {
          "output_type": "stream",
          "name": "stdout",
          "text": [
            "It was true!\n"
          ]
        }
      ]
    },
    {
      "cell_type": "code",
      "metadata": {
        "id": "qvVhD8tYHnon"
      },
      "source": [
        "if False:\n",
        "  print('It was true!')"
      ],
      "execution_count": 70,
      "outputs": []
    },
    {
      "cell_type": "markdown",
      "metadata": {
        "id": "ofrPBG8ZHnop"
      },
      "source": [
        "Let's add in some else logic:"
      ]
    },
    {
      "cell_type": "code",
      "metadata": {
        "id": "EF7AiLkrHnoq",
        "colab": {
          "base_uri": "https://localhost:8080/"
        },
        "outputId": "8301e471-bbfe-4eaa-c9a9-9293596d315d"
      },
      "source": [
        "x = False\n",
        "y = True\n",
        "\n",
        "if x:\n",
        "  print('y was True!')\n",
        "else:\n",
        "  print('I will be printed in any case where x is not true')"
      ],
      "execution_count": 71,
      "outputs": [
        {
          "output_type": "stream",
          "name": "stdout",
          "text": [
            "I will be printed in any case where x is not true\n"
          ]
        }
      ]
    },
    {
      "cell_type": "code",
      "source": [
        "x = True\n",
        "y = False\n",
        "\n",
        "if x:\n",
        "  print('y was True!')\n",
        "else:\n",
        "  print('I will be printed in any case where x is not true')"
      ],
      "metadata": {
        "colab": {
          "base_uri": "https://localhost:8080/"
        },
        "id": "ha_4QO3j7EEu",
        "outputId": "fa093f53-abc0-494d-dced-4e9d8c1f8d67"
      },
      "execution_count": 72,
      "outputs": [
        {
          "output_type": "stream",
          "name": "stdout",
          "text": [
            "y was True!\n"
          ]
        }
      ]
    },
    {
      "cell_type": "code",
      "source": [
        "x = True\n",
        "y = True\n",
        "\n",
        "if x:\n",
        "  print('y was True!')\n",
        "else:\n",
        "  print('I will be printed in any case where x is not true')"
      ],
      "metadata": {
        "colab": {
          "base_uri": "https://localhost:8080/"
        },
        "id": "v7NB_M7x7Wmt",
        "outputId": "8064ac66-c727-4ab2-d9cf-ede8fb8e3516"
      },
      "execution_count": 73,
      "outputs": [
        {
          "output_type": "stream",
          "name": "stdout",
          "text": [
            "y was True!\n"
          ]
        }
      ]
    },
    {
      "cell_type": "markdown",
      "metadata": {
        "id": "lEGoq9pjHnos"
      },
      "source": [
        "* Let's get a fuller picture of how far <code>if</code>, <code>elif</code>, and <code>else</code> can take us!\n",
        "\n",
        "\n",
        "* We write this out in a nested structure. Take note of how the <code>if</code>, <code>elif</code>, and <code>else</code> line up in the code. This can help you see what <code>if</code> is related to what <code>elif</code> or <code>else</code> statements."
      ]
    },
    {
      "cell_type": "code",
      "metadata": {
        "id": "DbV35ChhHnot",
        "colab": {
          "base_uri": "https://localhost:8080/"
        },
        "outputId": "d50210a7-afcf-4861-beb4-d790d3738ddd"
      },
      "source": [
        "city = 'Pune'\n",
        "\n",
        "if city == 'New Delhi':\n",
        "  print('Welcome to the Indian Capital')\n",
        "elif city == 'Mumbai':\n",
        "  print('Welcome to the Financial Capital of India!')\n",
        "else:\n",
        "  print('Where are you?')"
      ],
      "execution_count": 74,
      "outputs": [
        {
          "output_type": "stream",
          "name": "stdout",
          "text": [
            "Where are you?\n"
          ]
        }
      ]
    },
    {
      "cell_type": "markdown",
      "metadata": {
        "id": "Crk-mLkYHnow"
      },
      "source": [
        "* Note how the nested <code>if</code> statements are each checked until a True boolean causes the nested code below it to run. You should also note that you can put in as many <code>elif</code> statements as you want before you close off with an <code>else</code>.\n",
        "\n",
        "\n",
        "* Let's create two more simple examples for the <code>if</code>, <code>elif</code>, and <code>else</code> statements:"
      ]
    },
    {
      "cell_type": "code",
      "metadata": {
        "id": "gclDFcteHnow",
        "colab": {
          "base_uri": "https://localhost:8080/"
        },
        "outputId": "03f7f73b-0081-4d20-bbf6-5cc96d7d3185"
      },
      "source": [
        "person = 'Joe'\n",
        "\n",
        "if person == 'John':\n",
        "    print(f'Welcome {person}!')\n",
        "else:\n",
        "    print(\"Welcome, what's your name?\")"
      ],
      "execution_count": 75,
      "outputs": [
        {
          "output_type": "stream",
          "name": "stdout",
          "text": [
            "Welcome, what's your name?\n"
          ]
        }
      ]
    },
    {
      "cell_type": "code",
      "metadata": {
        "id": "b3kcCb1oHnoz",
        "colab": {
          "base_uri": "https://localhost:8080/"
        },
        "outputId": "ee5b8ceb-53cf-4d8f-85c8-26dec5c45a39"
      },
      "source": [
        "number1 = -2\n",
        "number2 = 9\n",
        "\n",
        "if number1 > 0:\n",
        "  if number2 < 10 :\n",
        "    print(number2 + number1)\n",
        "  else:\n",
        "    print(\"Should be greater than 10\")\n",
        "\n",
        "elif number1 < 0:\n",
        "    print(\"Ah, that's a negative number\")\n",
        "else:\n",
        "    print(\"The number is zero!\")"
      ],
      "execution_count": 76,
      "outputs": [
        {
          "output_type": "stream",
          "name": "stdout",
          "text": [
            "Ah, that's a negative number\n"
          ]
        }
      ]
    },
    {
      "cell_type": "code",
      "source": [
        "number1 = 7\n",
        "number2 = 9\n",
        "\n",
        "if number1 > 0:\n",
        "  if number2 < 10 :\n",
        "    print(number2 + number1)\n",
        "  else:\n",
        "    print(\"Should be greater than 10\")\n",
        "\n",
        "elif number1 < 0:\n",
        "    print(\"Ah, that's a negative number\")\n",
        "else:\n",
        "    print(\"The number is zero!\")"
      ],
      "metadata": {
        "colab": {
          "base_uri": "https://localhost:8080/"
        },
        "id": "gusA37xU8w41",
        "outputId": "d1312279-fbd5-4b45-a7a2-e1039857c7cd"
      },
      "execution_count": 77,
      "outputs": [
        {
          "output_type": "stream",
          "name": "stdout",
          "text": [
            "16\n"
          ]
        }
      ]
    },
    {
      "cell_type": "code",
      "source": [
        "number1 = 7\n",
        "number2 = 11\n",
        "\n",
        "if number1 > 0:\n",
        "  if number2 < 10 :\n",
        "    print(number2 + number1)\n",
        "  else:\n",
        "    print(\"Should be greater than 10\")\n",
        "\n",
        "elif number1 < 0:\n",
        "    print(\"Ah, that's a negative number\")\n",
        "else:\n",
        "    print(\"The number is zero!\")"
      ],
      "metadata": {
        "colab": {
          "base_uri": "https://localhost:8080/"
        },
        "id": "wn22h6WU9H-W",
        "outputId": "2e2a0746-4588-4057-9bc8-6a0ed9eb700f"
      },
      "execution_count": 78,
      "outputs": [
        {
          "output_type": "stream",
          "name": "stdout",
          "text": [
            "Should be greater than 10\n"
          ]
        }
      ]
    },
    {
      "cell_type": "markdown",
      "metadata": {
        "id": "2NN-koY-6af9"
      },
      "source": [
        "## <u>Truthy & Falsy</u>\n",
        "\n",
        "### A \"truthy\" value will satisfy the check performed by if or while statements. We use \"truthy\" and \"falsy\" to differentiate from the boolean values True and False."
      ]
    },
    {
      "cell_type": "markdown",
      "metadata": {
        "id": "iAhlDVWQ61kr"
      },
      "source": [
        "### All values are considered \"truthy\" except for the following, which are \"falsy\":\n",
        "\n",
        "* <code>None</code>\n",
        "* <code>False</code>\n",
        "* <code>0</code>\n",
        "* <code>0.0</code>\n",
        "* <code>[]</code> - an empty <code>list</code>\n",
        "* <code>{}</code> - an empty <code>dict</code>\n",
        "* <code>()</code> - an empty <code>tuple</code>\n",
        "* <code>''</code> - an empty <code>str</code>"
      ]
    },
    {
      "cell_type": "code",
      "metadata": {
        "id": "TsUz73an6dQy",
        "colab": {
          "base_uri": "https://localhost:8080/"
        },
        "outputId": "60915725-c17e-4283-ff6d-80b8be46a83a"
      },
      "source": [
        "# Consider the following statement\n",
        "\n",
        "if False:\n",
        "  print(\"What do you say?\")\n",
        "else:\n",
        "  print(\"I have nothing to say\")"
      ],
      "execution_count": 79,
      "outputs": [
        {
          "output_type": "stream",
          "name": "stdout",
          "text": [
            "I have nothing to say\n"
          ]
        }
      ]
    },
    {
      "cell_type": "code",
      "metadata": {
        "id": "3eaS1zDP7tN3",
        "colab": {
          "base_uri": "https://localhost:8080/"
        },
        "outputId": "5bfd5fc0-846c-4ebc-b7c0-11974d051dd4"
      },
      "source": [
        "if [None]:\n",
        "  print(\"Well I had a really bad day!\")\n",
        "else:\n",
        "  print(\"Come on you aced your test.\")"
      ],
      "execution_count": 80,
      "outputs": [
        {
          "output_type": "stream",
          "name": "stdout",
          "text": [
            "Well I had a really bad day!\n"
          ]
        }
      ]
    },
    {
      "cell_type": "code",
      "source": [
        "if None:\n",
        "  print(\"Well I had a really bad day!\")\n",
        "else:\n",
        "  print(\"Come on you aced your test.\")"
      ],
      "metadata": {
        "colab": {
          "base_uri": "https://localhost:8080/"
        },
        "id": "Qrwv_y76-y2j",
        "outputId": "48a73e79-75d6-4cd7-9cea-2deaed9228a0"
      },
      "execution_count": 81,
      "outputs": [
        {
          "output_type": "stream",
          "name": "stdout",
          "text": [
            "Come on you aced your test.\n"
          ]
        }
      ]
    },
    {
      "cell_type": "code",
      "source": [
        "if []:\n",
        "  print(\"Well I had a really bad day!\")\n",
        "else:\n",
        "  print(\"Come on you aced your test.\")"
      ],
      "metadata": {
        "colab": {
          "base_uri": "https://localhost:8080/"
        },
        "id": "4nB1Ddm9_Gbr",
        "outputId": "17c45f47-2541-4f39-80fc-e7b33dbd43fd"
      },
      "execution_count": 82,
      "outputs": [
        {
          "output_type": "stream",
          "name": "stdout",
          "text": [
            "Come on you aced your test.\n"
          ]
        }
      ]
    },
    {
      "cell_type": "code",
      "metadata": {
        "id": "2kWdK2bt758j",
        "colab": {
          "base_uri": "https://localhost:8080/"
        },
        "outputId": "96644a27-ad20-4e52-90fc-a3d904d6d566"
      },
      "source": [
        "if {1:2,3:4}:\n",
        "  print(\"This is True\")\n",
        "else:\n",
        "  print(\"This is False\")"
      ],
      "execution_count": 83,
      "outputs": [
        {
          "output_type": "stream",
          "name": "stdout",
          "text": [
            "This is True\n"
          ]
        }
      ]
    },
    {
      "cell_type": "code",
      "metadata": {
        "id": "cXFu9xHC-2V-"
      },
      "source": [],
      "execution_count": null,
      "outputs": []
    }
  ]
}